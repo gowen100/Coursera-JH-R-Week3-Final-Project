{
  "nbformat": 4,
  "nbformat_minor": 0,
  "metadata": {
    "kernelspec": {
      "display_name": "Python 3",
      "language": "python",
      "name": "python3"
    },
    "language_info": {
      "codemirror_mode": {
        "name": "ipython",
        "version": 3
      },
      "file_extension": ".py",
      "mimetype": "text/x-python",
      "name": "python",
      "nbconvert_exporter": "python",
      "pygments_lexer": "ipython3",
      "version": "3.7.6"
    },
    "colab": {
      "name": "JaneSt-Feb18.ipynb",
      "provenance": [],
      "include_colab_link": true
    }
  },
  "cells": [
    {
      "cell_type": "markdown",
      "metadata": {
        "id": "view-in-github",
        "colab_type": "text"
      },
      "source": [
        "<a href=\"https://colab.research.google.com/github/gowen100/Coursera-JH-R-Week3-Final-Project/blob/master/JaneSt_Feb18.ipynb\" target=\"_parent\"><img src=\"https://colab.research.google.com/assets/colab-badge.svg\" alt=\"Open In Colab\"/></a>"
      ]
    },
    {
      "cell_type": "code",
      "metadata": {
        "id": "cWF-tzFce0al"
      },
      "source": [
        "import numpy as np\n",
        "import pandas as pd\n",
        "import time\n",
        "import seaborn as sns\n",
        "import matplotlib.pyplot as plt\n",
        "import requests\n",
        "from bs4 import BeautifulSoup\n",
        "import itertools\n",
        "from copy import deepcopy as dcopy,copy\n",
        "from skimage.morphology import label"
      ],
      "execution_count": 1,
      "outputs": []
    },
    {
      "cell_type": "code",
      "metadata": {
        "id": "w6rZIExae0ap"
      },
      "source": [
        "# Working through the hooks puzzles.\n",
        "# Different to #2 as many more limitations on potential hook placements. 24 instead of 3200\n",
        "# need to work out a good method of solving !\n",
        "# Learned the value of pruning possible solutions\n",
        "# First define valid hook placements\n",
        "# For each hook placement determine the cells that are forced by the outside numbers\n",
        "# Discard the ones with high numbers to solve (bit of a fudge)\n",
        "# solve the rest with backtracking"
      ],
      "execution_count": 2,
      "outputs": []
    },
    {
      "cell_type": "markdown",
      "metadata": {
        "id": "p-m4SU_Le0aq"
      },
      "source": [
        "### Puzzle details\n",
        "<img src=\"https://www.janestreet.com/puzzles/wp-content/uploads/2018/02/hook3_puzzle-01.png\" width=\"300\" height=\"300\">"
      ]
    },
    {
      "cell_type": "code",
      "metadata": {
        "id": "AVp8i1pie0aq"
      },
      "source": [
        "#Setup the constraints\n",
        "top_labels = [0,35,42,18,18,0, 36, 63,0]\n",
        "bot_labels = [0,40,32,40,10,12,0,56,0]\n",
        "left_labels = [0,56,0,32,40,15,16,25,0]\n",
        "right_labels =[0,49,63,0,18,42,63,54,0]\n",
        "params = [top_labels,bot_labels,left_labels,right_labels]"
      ],
      "execution_count": 3,
      "outputs": []
    },
    {
      "cell_type": "code",
      "metadata": {
        "id": "kcgsS77-e0ar"
      },
      "source": [
        "class Matrix():\n",
        "    def __init__(self,top_labels,bot_labels,left_labels,right_labels):\n",
        "        self.top_labels = top_labels\n",
        "        self.bot_labels = bot_labels\n",
        "        self.left_labels = left_labels\n",
        "        self.right_labels = right_labels\n",
        "        self.potential_grids = [[-9,np.ones((9,9),dtype=int)*-1,[0,0,9,9]]] # list of all grids not yet ruled out.[Level,grid,coordinates of the grid yet to be filled]\n",
        "        self.solution = []\n",
        "        self.splits =  [list(i) for i in itertools.product([0, 1], repeat=9) if sum(i) > 1]\n",
        "     \n",
        "    ########################################################################################\n",
        "    # Code to get the initial valid grids\n",
        "\n",
        "    def add_layer(self,grid,coords,lvl,alignment):\n",
        "        row_start,col_start,row_end, col_end = coords\n",
        "    \n",
        "        if alignment == 0:\n",
        "            grid[row_start:row_end,col_start] =lvl\n",
        "            grid[row_start,col_start:col_end] =lvl\n",
        "            row_start +=1\n",
        "            col_start +=1\n",
        "    \n",
        "        if alignment == 1:\n",
        "            grid[row_start:row_end,col_start] =lvl\n",
        "            grid[row_end-1,col_start:col_end] =lvl\n",
        "            row_end -=1\n",
        "            col_start +=1 \n",
        "\n",
        "        if alignment == 2:\n",
        "            grid[row_start:row_end,col_end-1] =lvl\n",
        "            grid[row_start,col_start:col_end] =lvl\n",
        "            row_start +=1\n",
        "            col_end -=1\n",
        "        \n",
        "        if alignment == 3:\n",
        "            grid[row_start:row_end,col_end-1] =lvl\n",
        "            grid[row_end-1,col_start:col_end] =lvl\n",
        "            row_end -=1\n",
        "            col_end -=1 \n",
        "    \n",
        "        coords = [row_start,col_start,row_end, col_end]\n",
        "        \n",
        "        return grid,coords    \n",
        "   \n",
        "    def check_grid(self,grid):\n",
        "        isValid = 1\n",
        "        for i in range(9):\n",
        "            row = grid[i,:]\n",
        "            col = grid[:,i]\n",
        "            if -1 not in row:\n",
        "                    isValid *= self.check_line(row,self.left_labels[i],self.right_labels[i])\n",
        "            if -1 not in col:\n",
        "                    isValid *= self.check_line(col,self.top_labels[i],self.bot_labels[i])  \n",
        "        return isValid\n",
        "                    \n",
        "    def check_line(self,line,start,end):\n",
        "        for split in self.splits:\n",
        "            test = line * split\n",
        "            if (test[test!=0][:2].prod() == start) or (start ==0):\n",
        "                if (test[test!=0][-2:].prod() == end) or (end ==0):\n",
        "                    return 1\n",
        "        return 0\n",
        "    \n",
        "    \n",
        "#########################################################################################\n",
        "# Code to get the cells forced to 0 or 1 by the outside constraints\n",
        " \n",
        "    def forced(self,grid,hooks):\n",
        "        grid[hooks==1] = 1\n",
        "        changes = 1\n",
        "    \n",
        "        while changes >0:\n",
        "            changes = 0\n",
        "            for row,col in itertools.product(range(9),range(9)):\n",
        "                if grid[row,col]==-1:\n",
        "                # set up the numbers before and after the current grid spot \n",
        "                    test =grid*hooks \n",
        "                    above = test[:row,col]\n",
        "                    below = test[row+1:,col]\n",
        "                    left = test[row,:col]\n",
        "                    right  =test[row,col+1:]\n",
        "            \n",
        "                # work out the befores and afters for each rotation\n",
        "                    before = [above,below,left,right]   \n",
        "                    after = [below,above,right,left]\n",
        "                    avail_after = [[abs(i) for i in j] for j in after]\n",
        "                    param =[self.top_labels[col],self.bot_labels[col],self.left_labels[row],self.right_labels[row]]\n",
        "                    count_before = [np.sum(i > 0) for i in before ]\n",
        "                    num = hooks[row,col]\n",
        "\n",
        "                #test each rotation\n",
        "                    for i in range(4):\n",
        "                        if (param[i] != 0) & (np.sum(before[i] < 0) ==0):\n",
        "                            if count_before[i] ==0:\n",
        "                                if param[i] % num  != 0:\n",
        "                                # if there is nothing before and the current cell does not divide the test number exactly set 0\n",
        "                                    grid[row,col]= 0\n",
        "                                    changes +=1\n",
        "                                elif param[i] / hooks[row,col] not in avail_after[i]:\n",
        "                                # if there is nothing before and test number/current number is not in the rest of the row set 0\n",
        "                                    grid[row,col]= 0\n",
        "                                    changes +=1\n",
        "                                else:\n",
        "                                \n",
        "                                    check_nums_still_avail = False                                \n",
        "                                    for n in range(len(avail_after[i])): \n",
        "                                        if avail_after[i][n] > 0:\n",
        "                                            if param[i]/avail_after[i][n] in avail_after[i][n+1:]:\n",
        "                                                check_nums_still_avail = True\n",
        "                                                break\n",
        "                                \n",
        "                                    if not check_nums_still_avail:\n",
        "                                    #check if the numbers in the rest of the row can still make the test number if not set 1\n",
        "                                        grid[row,col]= 1\n",
        "                                        changes +=1\n",
        "                                      \n",
        "                                            \n",
        "                            if count_before[i] ==1:\n",
        "                                if num != param[i]/np.sum(before[i]):\n",
        "                                #if a previous number is set and the current number is not the right number to complete the product set 0\n",
        "                                    grid[row,col] = 0\n",
        "                                    changes +=1\n",
        "                                elif (num == param[i]/np.sum(before[i])) & (param[i]/np.sum(before[i]) not in avail_after[i]):\n",
        "                                # if it is the right number to complete the product and that number is not in the rest of the row set 1\n",
        "                                    grid[row,col] = 1\n",
        "                                    changes +=1\n",
        "                                \n",
        "                    test[row,col] = 0                        \n",
        "                    if np.max(label(test!=0,connectivity=1)) > 1:\n",
        "                    #if placing zero would break connectivity set 1\n",
        "                        grid[row,col]=1\n",
        "                                                    \n",
        "        return(grid)     \n",
        "    \n",
        "    \n",
        "    \n",
        "                    \n",
        "#########################################################################################\n",
        "# Backtracking to solve the rest of the cells\n",
        "    \n",
        "    def fill_rest(self,grid,hooks):\n",
        "        for row,col in itertools.product(range(9),range(9)):\n",
        "            if grid[row,col]==-1:\n",
        "                for digit in range(2):\n",
        "                    if self.possible(digit,row,col,grid,hooks):\n",
        "                        grid[row,col] = digit\n",
        "                        self.fill_rest(grid,hooks)\n",
        "                        grid[row,col] = -1\n",
        "                return\n",
        "        sol_print(grid,hooks)\n",
        "                                \n",
        "                            \n",
        "    def possible(self,digit,row,col,grid,hooks):\n",
        "        test = grid*hooks\n",
        "        test[row,col] = hooks[row,col]*digit\n",
        "    \n",
        "    #check the placement doesn't break connectivity\n",
        "        if np.max(label(test!=0,connectivity=1)) > 1:\n",
        "            return False\n",
        "    \n",
        "    #check the placement doesn't exceed the permitted count of that number\n",
        "        for num in range(2,10):\n",
        "            if np.sum(test == num) > num:\n",
        "                   return False\n",
        "        \n",
        "    # final checks if the placement completes the grid    \n",
        "        if np.sum(grid == -1) ==1:\n",
        "        #check counts again\n",
        "            for i in range(2,10):\n",
        "                if np.sum(test == i) != i:\n",
        "                    return False\n",
        "    \n",
        "        #check rows and columns\n",
        "            for i in range(9):\n",
        "                row = test[i,:]\n",
        "                col = test[:,i]\n",
        "                if (col[col !=0][:2].prod() != self.top_labels[i]) & (self.top_labels[i] !=0):\n",
        "                    return False\n",
        "                if (col[col !=0][-2:].prod() != self.bot_labels[i]) & (self.bot_labels[i] !=0):\n",
        "                    return False\n",
        "                if (row[row !=0][:2].prod() != self.left_labels[i]) & (left_labels[i] !=0):\n",
        "                    return False\n",
        "                if (row[row !=0][-2:].prod() != self.right_labels[i]) & (right_labels[i] !=0):\n",
        "                    return False   \n",
        "        return True\n",
        "\n",
        "#########################################################################################\n",
        "# Final element\n",
        "\n",
        "\n",
        "    \n",
        "    def solve(self):\n",
        "           \n",
        "        while len(self.potential_grids) > 0:\n",
        "            \n",
        "            temp_grid = self.potential_grids.pop(0)\n",
        "            #create the potential rotations at the given level\n",
        "            rotations = []\n",
        "        \n",
        "            for alignment in range(4):\n",
        "                lvl,grid,coords = dcopy(temp_grid)\n",
        "                grid,coords = self.add_layer(grid,coords,-lvl,alignment)\n",
        "                if lvl != -1 :\n",
        "                    rotations.append([lvl+1,grid,coords])\n",
        "                else:\n",
        "                     rotations = [[lvl+1,grid,coords]]\n",
        "    \n",
        "            \n",
        "            #check valid grids (where the sum can be made from available digits) and save the ones that work\n",
        "            for i in range(len(rotations)):\n",
        "                lvl,g,coords = rotations[i]\n",
        "                if self.check_grid(g):\n",
        "                    if lvl !=0:    \n",
        "                        self.potential_grids.append([lvl,g,coords])\n",
        "                    else:\n",
        "                        self.solution.append(g)\n",
        "                        \n",
        "\n",
        "        print(\"There are {} valid hook placements\".format(len(self.solution)))\n",
        "        \n",
        "        #solve each grid in the cut down list\n",
        "        forced_grids = []\n",
        "        for i in range(len(self.solution)):\n",
        "            #print(\"Checking: \",i)\n",
        "            hooks = self.solution[i]\n",
        "            forced_grid =self.forced(np.ones((9,9))*-1,hooks)\n",
        "            #print(\"Cells to solve :\",np.sum(forced_grid == -1))\n",
        "            if np.sum(forced_grid == -1) <24:\n",
        "                self.fill_rest(forced_grid,hooks)\n",
        "                #print(\"Solved\")\n",
        "    \n",
        "        \n",
        "#########################\n",
        "# Code to print in a \"nice\" format\n",
        "                            \n",
        "def sol_print(solved,matrix):\n",
        "    fig,ax = plt.subplots(1,1,figsize=(5,5))\n",
        "    ax = sns.heatmap(matrix,annot=solved*matrix,cbar=False,cmap=\"YlGnBu\")\n",
        "    ax.axis(\"off\")\n",
        "    \n",
        "    "
      ],
      "execution_count": 4,
      "outputs": []
    },
    {
      "cell_type": "code",
      "metadata": {
        "colab": {
          "base_uri": "https://localhost:8080/",
          "height": 374
        },
        "id": "7jMo4ZEte0aw",
        "outputId": "74cdded3-36a2-4ff6-eb7f-6dcc13e0f191"
      },
      "source": [
        "start = time.perf_counter()\n",
        "test = Matrix(top_labels,bot_labels,left_labels,right_labels)\n",
        "test.solve()\n",
        "stop =  time.perf_counter()\n",
        "print('\\n Solution took {:0.4f} seconds\\n'.format((stop-start)))\n"
      ],
      "execution_count": 5,
      "outputs": [
        {
          "output_type": "stream",
          "text": [
            "There are 24 valid hook placements\n",
            "\n",
            " Solution took 2.6580 seconds\n",
            "\n"
          ],
          "name": "stdout"
        },
        {
          "output_type": "display_data",
          "data": {
            "image/png": "[encoded data removed]",
            "text/plain": [
              "<Figure size 360x360 with 1 Axes>"
            ]
          },
          "metadata": {
            "tags": [],
            "needs_background": "light"
          }
        }
      ]
    },
    {
      "cell_type": "markdown",
      "metadata": {
        "id": "BoNNZ20Ze0a1"
      },
      "source": [
        "### Puzzle solution\n",
        "<img src=\"https://www.janestreet.com/puzzles/wp-content/uploads/2018/03/20180228_hooks_3_ans.png\" width=\"300\" height=\"400\">"
      ]
    },
    {
      "cell_type": "code",
      "metadata": {
        "id": "SKSPlfkke0a1"
      },
      "source": [
        ""
      ],
      "execution_count": 5,
      "outputs": []
    }
  ]
}